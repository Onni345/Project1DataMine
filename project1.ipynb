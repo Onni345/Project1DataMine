{
 "cells": [
  {
   "cell_type": "markdown",
   "id": "1e102674-07b1-42a0-a4ef-ef1fbfc8d3d1",
   "metadata": {},
   "source": [
    "# Project 1 -- Anurag Barua"
   ]
  },
  {
   "cell_type": "markdown",
   "id": "d086131e-0b5d-4d27-ad48-936aa9a5ab46",
   "metadata": {},
   "source": [
    "**Online Help**\n",
    "StackOverflow for R plot parameters. "
   ]
  },
  {
   "cell_type": "markdown",
   "id": "16fc6771-c04c-4d4b-9ae7-f15a8266e35b",
   "metadata": {},
   "source": [
    "**QUESTION 1**"
   ]
  },
  {
   "cell_type": "markdown",
   "id": "7932141b-850b-45ca-8fba-bd4081a39827",
   "metadata": {},
   "source": [
    "First I imported pandas which is the python library that holds methods to deal with dataframes like the one Dr.Ward wants us to use."
   ]
  },
  {
   "cell_type": "code",
   "execution_count": 4,
   "id": "9b67de4e-8785-4c8f-bfdc-1b07faebc304",
   "metadata": {},
   "outputs": [],
   "source": [
    "import pandas as pd"
   ]
  },
  {
   "cell_type": "markdown",
   "id": "5847ff6a-1ede-4ed9-98d8-75ccee451b3a",
   "metadata": {},
   "source": [
    "Next I initialized my dataframe which is the object that will be interacting with all of our methods and tools. I made the name myDF for my dataframe. I should remember to use camelCase, or maybe snake_case for python."
   ]
  },
  {
   "cell_type": "code",
   "execution_count": 2,
   "id": "f72e89db-17b9-4b95-863c-4cb9e4194846",
   "metadata": {},
   "outputs": [],
   "source": [
    "myDF = pd.read_csv(\"/anvil/projects/tdm/data/flights/subset/airports.csv\")"
   ]
  },
  {
   "cell_type": "markdown",
   "id": "116c1737-38a3-4ecd-a728-665be21344bd",
   "metadata": {},
   "source": [
    "Lastly I print out the deliverable which uses the pre-built head method and returns the first 5 entries of my dataframe. I note that they are indexed 0-4, but represent entries 1-5."
   ]
  },
  {
   "cell_type": "code",
   "execution_count": 3,
   "id": "df096c5c-e361-4947-b7bc-3f22a045cd54",
   "metadata": {},
   "outputs": [
    {
     "data": {
      "text/html": [
       "<div>\n",
       "<style scoped>\n",
       "    .dataframe tbody tr th:only-of-type {\n",
       "        vertical-align: middle;\n",
       "    }\n",
       "\n",
       "    .dataframe tbody tr th {\n",
       "        vertical-align: top;\n",
       "    }\n",
       "\n",
       "    .dataframe thead th {\n",
       "        text-align: right;\n",
       "    }\n",
       "</style>\n",
       "<table border=\"1\" class=\"dataframe\">\n",
       "  <thead>\n",
       "    <tr style=\"text-align: right;\">\n",
       "      <th></th>\n",
       "      <th>iata</th>\n",
       "      <th>airport</th>\n",
       "      <th>city</th>\n",
       "      <th>state</th>\n",
       "      <th>country</th>\n",
       "      <th>lat</th>\n",
       "      <th>long</th>\n",
       "    </tr>\n",
       "  </thead>\n",
       "  <tbody>\n",
       "    <tr>\n",
       "      <th>0</th>\n",
       "      <td>00M</td>\n",
       "      <td>Thigpen</td>\n",
       "      <td>Bay Springs</td>\n",
       "      <td>MS</td>\n",
       "      <td>USA</td>\n",
       "      <td>31.953765</td>\n",
       "      <td>-89.234505</td>\n",
       "    </tr>\n",
       "    <tr>\n",
       "      <th>1</th>\n",
       "      <td>00R</td>\n",
       "      <td>Livingston Municipal</td>\n",
       "      <td>Livingston</td>\n",
       "      <td>TX</td>\n",
       "      <td>USA</td>\n",
       "      <td>30.685861</td>\n",
       "      <td>-95.017928</td>\n",
       "    </tr>\n",
       "    <tr>\n",
       "      <th>2</th>\n",
       "      <td>00V</td>\n",
       "      <td>Meadow Lake</td>\n",
       "      <td>Colorado Springs</td>\n",
       "      <td>CO</td>\n",
       "      <td>USA</td>\n",
       "      <td>38.945749</td>\n",
       "      <td>-104.569893</td>\n",
       "    </tr>\n",
       "    <tr>\n",
       "      <th>3</th>\n",
       "      <td>01G</td>\n",
       "      <td>Perry-Warsaw</td>\n",
       "      <td>Perry</td>\n",
       "      <td>NY</td>\n",
       "      <td>USA</td>\n",
       "      <td>42.741347</td>\n",
       "      <td>-78.052081</td>\n",
       "    </tr>\n",
       "    <tr>\n",
       "      <th>4</th>\n",
       "      <td>01J</td>\n",
       "      <td>Hilliard Airpark</td>\n",
       "      <td>Hilliard</td>\n",
       "      <td>FL</td>\n",
       "      <td>USA</td>\n",
       "      <td>30.688012</td>\n",
       "      <td>-81.905944</td>\n",
       "    </tr>\n",
       "  </tbody>\n",
       "</table>\n",
       "</div>"
      ],
      "text/plain": [
       "  iata               airport              city state country        lat  \\\n",
       "0  00M              Thigpen        Bay Springs    MS     USA  31.953765   \n",
       "1  00R  Livingston Municipal        Livingston    TX     USA  30.685861   \n",
       "2  00V           Meadow Lake  Colorado Springs    CO     USA  38.945749   \n",
       "3  01G          Perry-Warsaw             Perry    NY     USA  42.741347   \n",
       "4  01J      Hilliard Airpark          Hilliard    FL     USA  30.688012   \n",
       "\n",
       "         long  \n",
       "0  -89.234505  \n",
       "1  -95.017928  \n",
       "2 -104.569893  \n",
       "3  -78.052081  \n",
       "4  -81.905944  "
      ]
     },
     "execution_count": 3,
     "metadata": {},
     "output_type": "execute_result"
    }
   ],
   "source": [
    "myDF.head()"
   ]
  },
  {
   "cell_type": "code",
   "execution_count": null,
   "id": "e6dde6b8-e082-432d-b73b-7f574f492dd5",
   "metadata": {},
   "outputs": [],
   "source": [
    "**QUESTION 2**"
   ]
  },
  {
   "cell_type": "markdown",
   "id": "02437915-887a-48d3-b28b-cf1c0ec2f75d",
   "metadata": {},
   "source": [
    "Below is the first deliverable of using R to show the first 6 entries, but using the seminar kernel (which needs cell magic and the %%R keyword/command). For both these kernels, the same process is used which is loading the dataset into a dataframe object through the read.csv method, and then printing the first 6 entries with the head method."
   ]
  },
  {
   "cell_type": "markdown",
   "id": "62d2f13b-0bfe-418b-b5ce-36e43e266704",
   "metadata": {},
   "source": [
    "It's interesting that the head method in R is 6 rows but in Python is 5?"
   ]
  },
  {
   "cell_type": "code",
   "execution_count": 2,
   "id": "f45b7871-007a-4f40-aedb-d2e53b67f0fc",
   "metadata": {},
   "outputs": [
    {
     "name": "stdout",
     "output_type": "stream",
     "text": [
      "  iata              airport             city state country      lat       long\n",
      "1  00M             Thigpen       Bay Springs    MS     USA 31.95376  -89.23450\n",
      "2  00R Livingston Municipal       Livingston    TX     USA 30.68586  -95.01793\n",
      "3  00V          Meadow Lake Colorado Springs    CO     USA 38.94575 -104.56989\n",
      "4  01G         Perry-Warsaw            Perry    NY     USA 42.74135  -78.05208\n",
      "5  01J     Hilliard Airpark         Hilliard    FL     USA 30.68801  -81.90594\n",
      "6  01M    Tishomingo County          Belmont    MS     USA 34.49167  -88.20111\n"
     ]
    }
   ],
   "source": [
    "%%R\n",
    "\n",
    "myDF <- read.csv(\"/anvil/projects/tdm/data/flights/subset/airports.csv\")\n",
    "head(myDF)"
   ]
  },
  {
   "cell_type": "markdown",
   "id": "c0542fcd-13e6-4b1c-a066-d48224c03c77",
   "metadata": {},
   "source": [
    "Below is the second deliverable of using R to show the first 6 entries, but with using the seminar-r kernel (doesn't need the %%R command as I assume the notebook KNOWS it is going to use R code). I should remember that even though these two sit in the same ipynb, you have to change the kernel before running each specific cell. (Control+Enter to run)."
   ]
  },
  {
   "cell_type": "code",
   "execution_count": 1,
   "id": "8ae7bba1-0a9c-4e96-b688-58c776245d79",
   "metadata": {},
   "outputs": [
    {
     "data": {
      "text/html": [
       "<table class=\"dataframe\">\n",
       "<caption>A data.frame: 6 x 7</caption>\n",
       "<thead>\n",
       "\t<tr><th></th><th scope=col>iata</th><th scope=col>airport</th><th scope=col>city</th><th scope=col>state</th><th scope=col>country</th><th scope=col>lat</th><th scope=col>long</th></tr>\n",
       "\t<tr><th></th><th scope=col>&lt;chr&gt;</th><th scope=col>&lt;chr&gt;</th><th scope=col>&lt;chr&gt;</th><th scope=col>&lt;chr&gt;</th><th scope=col>&lt;chr&gt;</th><th scope=col>&lt;dbl&gt;</th><th scope=col>&lt;dbl&gt;</th></tr>\n",
       "</thead>\n",
       "<tbody>\n",
       "\t<tr><th scope=row>1</th><td>00M</td><td>Thigpen             </td><td>Bay Springs     </td><td>MS</td><td>USA</td><td>31.95376</td><td> -89.23450</td></tr>\n",
       "\t<tr><th scope=row>2</th><td>00R</td><td>Livingston Municipal</td><td>Livingston      </td><td>TX</td><td>USA</td><td>30.68586</td><td> -95.01793</td></tr>\n",
       "\t<tr><th scope=row>3</th><td>00V</td><td>Meadow Lake         </td><td>Colorado Springs</td><td>CO</td><td>USA</td><td>38.94575</td><td>-104.56989</td></tr>\n",
       "\t<tr><th scope=row>4</th><td>01G</td><td>Perry-Warsaw        </td><td>Perry           </td><td>NY</td><td>USA</td><td>42.74135</td><td> -78.05208</td></tr>\n",
       "\t<tr><th scope=row>5</th><td>01J</td><td>Hilliard Airpark    </td><td>Hilliard        </td><td>FL</td><td>USA</td><td>30.68801</td><td> -81.90594</td></tr>\n",
       "\t<tr><th scope=row>6</th><td>01M</td><td>Tishomingo County   </td><td>Belmont         </td><td>MS</td><td>USA</td><td>34.49167</td><td> -88.20111</td></tr>\n",
       "</tbody>\n",
       "</table>\n"
      ],
      "text/latex": [
       "A data.frame: 6 x 7\n",
       "\\begin{tabular}{r|lllllll}\n",
       "  & iata & airport & city & state & country & lat & long\\\\\n",
       "  & <chr> & <chr> & <chr> & <chr> & <chr> & <dbl> & <dbl>\\\\\n",
       "\\hline\n",
       "\t1 & 00M & Thigpen              & Bay Springs      & MS & USA & 31.95376 &  -89.23450\\\\\n",
       "\t2 & 00R & Livingston Municipal & Livingston       & TX & USA & 30.68586 &  -95.01793\\\\\n",
       "\t3 & 00V & Meadow Lake          & Colorado Springs & CO & USA & 38.94575 & -104.56989\\\\\n",
       "\t4 & 01G & Perry-Warsaw         & Perry            & NY & USA & 42.74135 &  -78.05208\\\\\n",
       "\t5 & 01J & Hilliard Airpark     & Hilliard         & FL & USA & 30.68801 &  -81.90594\\\\\n",
       "\t6 & 01M & Tishomingo County    & Belmont          & MS & USA & 34.49167 &  -88.20111\\\\\n",
       "\\end{tabular}\n"
      ],
      "text/markdown": [
       "\n",
       "A data.frame: 6 x 7\n",
       "\n",
       "| <!--/--> | iata &lt;chr&gt; | airport &lt;chr&gt; | city &lt;chr&gt; | state &lt;chr&gt; | country &lt;chr&gt; | lat &lt;dbl&gt; | long &lt;dbl&gt; |\n",
       "|---|---|---|---|---|---|---|---|\n",
       "| 1 | 00M | Thigpen              | Bay Springs      | MS | USA | 31.95376 |  -89.23450 |\n",
       "| 2 | 00R | Livingston Municipal | Livingston       | TX | USA | 30.68586 |  -95.01793 |\n",
       "| 3 | 00V | Meadow Lake          | Colorado Springs | CO | USA | 38.94575 | -104.56989 |\n",
       "| 4 | 01G | Perry-Warsaw         | Perry            | NY | USA | 42.74135 |  -78.05208 |\n",
       "| 5 | 01J | Hilliard Airpark     | Hilliard         | FL | USA | 30.68801 |  -81.90594 |\n",
       "| 6 | 01M | Tishomingo County    | Belmont          | MS | USA | 34.49167 |  -88.20111 |\n",
       "\n"
      ],
      "text/plain": [
       "  iata airport              city             state country lat      long      \n",
       "1 00M  Thigpen              Bay Springs      MS    USA     31.95376  -89.23450\n",
       "2 00R  Livingston Municipal Livingston       TX    USA     30.68586  -95.01793\n",
       "3 00V  Meadow Lake          Colorado Springs CO    USA     38.94575 -104.56989\n",
       "4 01G  Perry-Warsaw         Perry            NY    USA     42.74135  -78.05208\n",
       "5 01J  Hilliard Airpark     Hilliard         FL    USA     30.68801  -81.90594\n",
       "6 01M  Tishomingo County    Belmont          MS    USA     34.49167  -88.20111"
      ]
     },
     "metadata": {},
     "output_type": "display_data"
    }
   ],
   "source": [
    "myDF <- read.csv(\"/anvil/projects/tdm/data/flights/subset/airports.csv\")\n",
    "head(myDF)"
   ]
  },
  {
   "cell_type": "markdown",
   "id": "1ce8b974-aa91-4eda-a1c5-60ede2ea50d1",
   "metadata": {},
   "source": [
    "**QUESTION 3**\n",
    "In this question I seemed to start getting the hang of Dr.Ward's steps so I condensed them into just one cell instead of doing multiple cells with multiple runs. This will be my protocol for future deliverables too. I also wrote this in R. First I instantiated the myDF dataframe with the read.csv function again (important to notice <- replaces =), and then to get the state with the most airports I followed the nested calls of accessing the state token (column) in myDF (with the $ sign), putting that into a table (what I assume to represent a list data type in python or an array in java), and then sorting that. Then I just see the one at the maximum end which is Alaska. AK, 263."
   ]
  },
  {
   "cell_type": "code",
   "execution_count": 4,
   "id": "fc6a52b0-d146-4ab8-b2cb-ac2ca203c77e",
   "metadata": {},
   "outputs": [
    {
     "data": {
      "text/plain": [
       "\n",
       " DC  GU  AS  CQ  DE  VI  RI  PR  VT  NH  CT  HI  MD  WV  MA  NV  WY  ME  NJ  UT \n",
       "  1   1   3   4   5   5   6  11  13  14  15  16  18  24  30  32  32  34  35  35 \n",
       " ID  VA  CO  KY  NM  ND  SC  LA  OR  SD  AZ  IN  WA  TN  MT  PA  MS  NC  AL  NE \n",
       " 37  47  49  50  51  52  52  55  57  57  59  65  65  70  71  71  72  72  73  73 \n",
       " AR  MO  IA  KS  WI  IL  MN  MI  GA  NY  FL  OH  OK  CA  TX  AK \n",
       " 74  74  78  78  84  88  89  94  97  97 100 100 102 205 209 263 "
      ]
     },
     "metadata": {},
     "output_type": "display_data"
    }
   ],
   "source": [
    "myDF <- read.csv(\"/anvil/projects/tdm/data/flights/subset/airports.csv\")\n",
    "sort(table(myDF$state))"
   ]
  },
  {
   "cell_type": "markdown",
   "id": "1ff43801-9c53-42c5-b1f7-2a44b993358b",
   "metadata": {},
   "source": [
    "**QUESTION 4**\n",
    "I will summarize my findings in here, cumulatively adding to this markdown box as I code, instead of making markdowns in between lines. I notice that the reviews csv file has many more entries as I see through the dim and table return methods. Using table we can see the key value pairs associating with each occurence of an element. "
   ]
  },
  {
   "cell_type": "code",
   "execution_count": 10,
   "id": "e002071e-0059-4792-b4a0-7de8c269ba11",
   "metadata": {},
   "outputs": [
    {
     "data": {
      "text/plain": [
       "\n",
       "     bj breyers      hd talenti \n",
       "     57      69      70      45 "
      ]
     },
     "metadata": {},
     "output_type": "display_data"
    },
    {
     "data": {
      "text/plain": [
       "\n",
       "     bj breyers      hd talenti \n",
       "   7943    5007    4655    4069 "
      ]
     },
     "metadata": {},
     "output_type": "display_data"
    }
   ],
   "source": [
    "myDF <- read.csv(\"/anvil/projects/tdm/data/icecream/combined/products.csv\")\n",
    "table(myDF$brand)\n",
    "#dim(myDF)\n",
    "#tail(myDF)\n",
    "myDF2 <- read.csv(\"/anvil/projects/tdm/data/icecream/combined/reviews.csv\")\n",
    "table(myDF2$brand)\n",
    "#dim(myDF)\n",
    "#tail(myDF)"
   ]
  },
  {
   "cell_type": "markdown",
   "id": "0f728f2b-1a71-43e5-8eda-807f618c24ff",
   "metadata": {},
   "source": [
    "**QUESTION 5**\n",
    "I am using the same instantiation of the myDF dataframe, but I wonder if in the future memory and resources from each cell will transfer on. I will try it this time without re-instantiating myDF and myDF2. I am using the plot method to visualize the table I just made. **In the code below, I used a stackoverflow site to let me know how to change the colors of the plot within the plot method. This is because I wanted to differentiate the two graphs easily.**"
   ]
  },
  {
   "cell_type": "code",
   "execution_count": 13,
   "id": "9bd2adfa-79a4-4efa-b8d3-4f8717168664",
   "metadata": {},
   "outputs": [
    {
     "data": {
      "image/png": "[encoded data removed]",
      "text/plain": [
       "plot without title"
      ]
     },
     "metadata": {
      "image/png": {
       "height": 420,
       "width": 420
      }
     },
     "output_type": "display_data"
    },
    {
     "data": {
      "image/png": "[encoded data removed]",
      "text/plain": [
       "plot without title"
      ]
     },
     "metadata": {
      "image/png": {
       "height": 420,
       "width": 420
      }
     },
     "output_type": "display_data"
    }
   ],
   "source": [
    "plot(table(myDF$brand), col=\"blue\")\n",
    "plot(table(myDF2$brand), col=\"red\")"
   ]
  },
  {
   "cell_type": "markdown",
   "id": "7040a2d4-c21a-480e-8c90-da4bcfd8c261",
   "metadata": {},
   "source": [
    "## Pledge\n",
    "\n",
    "By submitting this work I hereby pledge that this is my own, personal work. I've acknowledged in the designated place at the top of this file all sources that I used to complete said work, including but not limited to: online resources, books, and electronic communications. I've noted all collaboration with fellow students and/or TA's. I did not copy or plagiarize another's work.\n",
    "\n",
    "> As a Boilermaker pursuing academic excellence, I pledge to be honest and true in all that I do. Accountable together – We are Purdue."
   ]
  },
  {
   "cell_type": "code",
   "execution_count": null,
   "id": "961e6298-5c9c-42b7-a429-a7f1cf447b07",
   "metadata": {},
   "outputs": [],
   "source": []
  }
 ],
 "metadata": {
  "kernelspec": {
   "display_name": "seminar-r",
   "language": "R",
   "name": "seminar-r"
  },
  "language_info": {
   "codemirror_mode": "r",
   "file_extension": ".r",
   "mimetype": "text/x-r-source",
   "name": "R",
   "pygments_lexer": "r",
   "version": "4.3.1"
  }
 },
 "nbformat": 4,
 "nbformat_minor": 5
}
